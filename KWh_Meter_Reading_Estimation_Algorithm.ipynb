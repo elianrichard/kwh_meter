{
 "cells": [
  {
   "cell_type": "code",
   "execution_count": 1,
   "metadata": {
    "colab": {
     "base_uri": "https://localhost:8080/",
     "height": 206
    },
    "id": "j2dlpgEr9OIx",
    "outputId": "cb50207a-a90a-4603-e6f7-c9508bb5ef95"
   },
   "outputs": [],
   "source": [
    "import matplotlib.pyplot as plt\n",
    "import pandas as pd\n",
    "import numpy as np\n",
    "import csv\n",
    "\n",
    "url = 'https://raw.githubusercontent.com/elianrichard/kwh_meter/master/data_kwh.csv'\n",
    "url_libur = 'https://raw.githubusercontent.com/elianrichard/kwh_meter/master/data_libur.csv'\n",
    "url_puasa = 'https://raw.githubusercontent.com/elianrichard/kwh_meter/master/data_puasa.csv'\n",
    "data_libur = pd.read_csv(url_libur)\n",
    "data_puasa = pd.read_csv(url_puasa)\n",
    "data_kwh = pd.read_csv(url)"
   ]
  },
  {
   "cell_type": "code",
   "execution_count": 2,
   "metadata": {},
   "outputs": [
    {
     "name": "stdout",
     "output_type": "stream",
     "text": [
      "[['1' '1' '2021' 'Tahun Baru']\n",
      " ['12' '2' '2021' 'Tahun Baru Imlek']\n",
      " ['11' '3' '2021' 'Isra Miraj']\n",
      " ['14' '3' '2021' 'Nyepi']\n",
      " ['2' '4' '2021' 'Wafat Isa Al Masih']\n",
      " ['1' '5' '2021' 'Hari Buruh']\n",
      " ['12' '5' '2021' 'Cuti Bersama Idul Fitri']\n",
      " ['13' '5' '2021' 'Kenaikan Isa Al Masih']\n",
      " ['13' '5' '2021' 'Idul Fitri']\n",
      " ['14' '5' '2021' 'Idul Fitri']\n",
      " ['26' '5' '2021' 'Waisak']\n",
      " ['1' '6' '2021' 'Hari Lahir Pancasila']\n",
      " ['20' '7' '2021' 'Idul Adha']\n",
      " ['10' '8' '2021' 'Tahun Baru Islam']\n",
      " ['17' '8' '2021' 'Kemerdekaan RI']\n",
      " ['19' '10' '2021' 'Maulid Nabi Muhammad']\n",
      " ['25' '12' '2021' 'Natal']\n",
      " ['1' '1' '2020' 'Tahun Baru']\n",
      " ['25' '1' '2020' 'Tahun Baru Imlek']\n",
      " ['22' '3' '2020' 'Isra Miraj']\n",
      " ['25' '3' '2020' 'Nyepi']\n",
      " ['10' '4' '2020' 'Wafat Isa Al Masih']\n",
      " ['1' '5' '2020' 'Hari Buruh']\n",
      " ['7' '5' '2020' 'Hari Raya Waisak']\n",
      " ['21' '5' '2020' 'Kenaikan Isa Al Masih']\n",
      " ['22' '5' '2020' 'Cuti Bersama Idul Fitri']\n",
      " ['24' '5' '2020' 'Idul Fitri']\n",
      " ['25' '5' '2020' 'Idul Fitri']\n",
      " ['26' '5' '2020' 'Cuti Bersama Idul Fitri']\n",
      " ['27' '5' '2020' 'Cuti Bersama Idul Fitri']\n",
      " ['1' '6' '2020' 'Hari Lahir Pancasila']\n",
      " ['31' '7' '2020' 'Idul Adha']\n",
      " ['17' '8' '2020' 'Kemerdekaan RI']\n",
      " ['20' '8' '2020' 'Tahun Baru Islam']\n",
      " ['29' '10' '2020' 'Maulid Nabi Muhammad']\n",
      " ['24' '12' '2020' 'Cuti Bersama Natal']\n",
      " ['25' '12' '2020' 'Natal']\n",
      " ['1' '1' '2019' 'Tahun Baru']\n",
      " ['5' '2' '2019' 'Tahun Baru Imlek']\n",
      " ['7' '3' '2019' 'Nyepi']\n",
      " ['3' '4' '2019' 'Iskra Miraj']\n",
      " ['19' '4' '2019' 'Wafat Isa Al Masih']\n",
      " ['1' '5' '2019' 'Hari Buruh']\n",
      " ['19' '5' '2019' 'Hari Raya Waisak']\n",
      " ['30' '5' '2019' 'Kenaikan Isa Al Masih']\n",
      " ['1' '6' '2019' 'Hari Lahir Pancasila']\n",
      " ['3' '6' '2019' 'Hari Raya Idul FItri']\n",
      " ['4' '6' '2019' 'Hari Raya Idul FItri']\n",
      " ['5' '6' '2019' 'Hari Raya Idul FItri']\n",
      " ['6' '6' '2019' 'Hari Raya Idul FItri']\n",
      " ['7' '6' '2019' 'Hari Raya Idul FItri']\n",
      " ['11' '8' '2019' 'Hari Raya Idhul Adha']\n",
      " ['17' '8' '2019' 'Kemerdekaan RI']\n",
      " ['1' '9' '2019' 'Tahun Baru Islam']\n",
      " ['9' '11' '2019' 'Maulid Nabi']\n",
      " ['24' '12' '2019' 'Hari Raya Natal']\n",
      " ['25' '12' '2019' 'Hari Raya Natal']\n",
      " ['13' '4' '2021' 'Puasa']\n",
      " ['14' '4' '2021' 'Puasa']\n",
      " ['15' '4' '2021' 'Puasa']\n",
      " ['16' '4' '2021' 'Puasa']\n",
      " ['17' '4' '2021' 'Puasa']\n",
      " ['18' '4' '2021' 'Puasa']\n",
      " ['19' '4' '2021' 'Puasa']\n",
      " ['20' '4' '2021' 'Puasa']\n",
      " ['21' '4' '2021' 'Puasa']\n",
      " ['22' '4' '2021' 'Puasa']\n",
      " ['23' '4' '2021' 'Puasa']\n",
      " ['24' '4' '2021' 'Puasa']\n",
      " ['25' '4' '2021' 'Puasa']\n",
      " ['26' '4' '2021' 'Puasa']\n",
      " ['27' '4' '2021' 'Puasa']\n",
      " ['28' '4' '2021' 'Puasa']\n",
      " ['29' '4' '2021' 'Puasa']\n",
      " ['30' '4' '2021' 'Puasa']\n",
      " ['1' '5' '2021' 'Puasa']\n",
      " ['2' '5' '2021' 'Puasa']\n",
      " ['3' '5' '2021' 'Puasa']\n",
      " ['4' '5' '2021' 'Puasa']\n",
      " ['5' '5' '2021' 'Puasa']\n",
      " ['6' '5' '2021' 'Puasa']\n",
      " ['7' '5' '2021' 'Puasa']\n",
      " ['8' '5' '2021' 'Puasa']\n",
      " ['9' '5' '2021' 'Puasa']\n",
      " ['10' '5' '2021' 'Puasa']\n",
      " ['11' '5' '2021' 'Puasa']\n",
      " ['12' '5' '2021' 'Puasa']\n",
      " ['24' '4' '2020' 'Puasa']\n",
      " ['25' '4' '2020' 'Puasa']\n",
      " ['26' '4' '2020' 'Puasa']\n",
      " ['27' '4' '2020' 'Puasa']\n",
      " ['28' '4' '2020' 'Puasa']\n",
      " ['29' '4' '2020' 'Puasa']\n",
      " ['30' '4' '2020' 'Puasa']\n",
      " ['1' '5' '2020' 'Puasa']\n",
      " ['2' '5' '2020' 'Puasa']\n",
      " ['3' '5' '2020' 'Puasa']\n",
      " ['4' '5' '2020' 'Puasa']\n",
      " ['5' '5' '2020' 'Puasa']\n",
      " ['6' '5' '2020' 'Puasa']\n",
      " ['7' '5' '2020' 'Puasa']\n",
      " ['8' '5' '2020' 'Puasa']\n",
      " ['9' '5' '2020' 'Puasa']\n",
      " ['10' '5' '2020' 'Puasa']\n",
      " ['11' '5' '2020' 'Puasa']\n",
      " ['12' '5' '2020' 'Puasa']\n",
      " ['13' '5' '2020' 'Puasa']\n",
      " ['14' '5' '2020' 'Puasa']\n",
      " ['15' '5' '2020' 'Puasa']\n",
      " ['16' '5' '2020' 'Puasa']\n",
      " ['17' '5' '2020' 'Puasa']\n",
      " ['18' '5' '2020' 'Puasa']\n",
      " ['19' '5' '2020' 'Puasa']\n",
      " ['20' '5' '2020' 'Puasa']\n",
      " ['21' '5' '2020' 'Puasa']\n",
      " ['22' '5' '2020' 'Puasa']\n",
      " ['23' '5' '2020' 'Puasa']\n",
      " ['5' '5' '2019' 'Puasa']\n",
      " ['6' '5' '2019' 'Puasa']\n",
      " ['7' '5' '2019' 'Puasa']\n",
      " ['8' '5' '2019' 'Puasa']\n",
      " ['9' '5' '2019' 'Puasa']\n",
      " ['10' '5' '2019' 'Puasa']\n",
      " ['11' '5' '2019' 'Puasa']\n",
      " ['12' '5' '2019' 'Puasa']\n",
      " ['13' '5' '2019' 'Puasa']\n",
      " ['14' '5' '2019' 'Puasa']\n",
      " ['15' '5' '2019' 'Puasa']\n",
      " ['16' '5' '2019' 'Puasa']\n",
      " ['17' '5' '2019' 'Puasa']\n",
      " ['18' '5' '2019' 'Puasa']\n",
      " ['19' '5' '2019' 'Puasa']\n",
      " ['20' '5' '2019' 'Puasa']\n",
      " ['21' '5' '2019' 'Puasa']\n",
      " ['22' '5' '2019' 'Puasa']\n",
      " ['23' '5' '2019' 'Puasa']\n",
      " ['24' '5' '2019' 'Puasa']\n",
      " ['25' '5' '2019' 'Puasa']\n",
      " ['26' '5' '2019' 'Puasa']\n",
      " ['27' '5' '2019' 'Puasa']\n",
      " ['28' '5' '2019' 'Puasa']\n",
      " ['29' '5' '2019' 'Puasa']\n",
      " ['30' '5' '2019' 'Puasa']\n",
      " ['31' '5' '2019' 'Puasa']\n",
      " ['1' '6' '2019' 'Puasa']\n",
      " ['2' '6' '2019' 'Puasa']\n",
      " ['3' '6' '2019' 'Puasa']\n",
      " ['4' '6' '2019' 'Puasa']\n",
      " ['30' '12' '2019' 'Liburrr']]\n"
     ]
    }
   ],
   "source": [
    "database_libur = np.empty((0, 4), int)\n",
    "\n",
    "for data in range(len(data_libur)):\n",
    "    database_libur = np.append(database_libur, np.array([[data_libur['Day'][data], data_libur['Month'][data], data_libur['Year'][data], data_libur['Ket'][data]]]), 0)\n",
    "for data in range(len(data_puasa)):\n",
    "    database_libur = np.append(database_libur, np.array([[data_puasa['Day'][data], data_puasa['Month'][data], data_puasa['Year'][data], 'Puasa']]), 0)\n",
    "database_libur = np.append(database_libur, np.array([[30, 12, 2019, 'Liburrr']]), 0)\n",
    "print(database_libur)"
   ]
  },
  {
   "cell_type": "code",
   "execution_count": 3,
   "metadata": {
    "id": "fmTIJjXb9OI0"
   },
   "outputs": [],
   "source": [
    "y = data_kwh['ExportWhTotal'].tolist()\n",
    "data_clean = []\n",
    "\n",
    "for data in y:\n",
    "    if data > 0:\n",
    "        if data < 90000000:\n",
    "            data_clean.append(data)\n",
    "        else:\n",
    "          data_clean.append(np.nan)\n",
    "    else:\n",
    "      data_clean.append(np.nan)\n",
    "\n",
    "x = list(range(0, len(data_clean)))"
   ]
  },
  {
   "cell_type": "code",
   "execution_count": 4,
   "metadata": {
    "colab": {
     "base_uri": "https://localhost:8080/",
     "height": 857
    },
    "id": "K7TV2DIj9OI1",
    "outputId": "a7f9b7fb-7059-4e16-fb9e-d725e885530a"
   },
   "outputs": [
    {
     "data": {
      "text/plain": [
       "<Figure size 3600x2160 with 0 Axes>"
      ]
     },
     "metadata": {},
     "output_type": "display_data"
    }
   ],
   "source": [
    "fig = plt.figure()\n",
    "fig.set_figwidth(50)\n",
    "fig.set_figheight(30)\n",
    "# p = plt.plot(x, data_clean)"
   ]
  },
  {
   "cell_type": "code",
   "execution_count": 5,
   "metadata": {
    "colab": {
     "base_uri": "https://localhost:8080/",
     "height": 875
    },
    "id": "niZ4oyAEgPqV",
    "outputId": "3baf72b0-bfeb-4216-cf46-3152760c18f1"
   },
   "outputs": [
    {
     "data": {
      "text/plain": [
       "<Figure size 3600x2160 with 0 Axes>"
      ]
     },
     "metadata": {},
     "output_type": "display_data"
    }
   ],
   "source": [
    "data_asli = []\n",
    "\n",
    "for data in y:\n",
    "    if data > 0:\n",
    "        if data < 90000000:\n",
    "            data_asli.append(data)\n",
    "            \n",
    "n = list(range(0, len(data_asli)))\n",
    "fig = plt.figure()\n",
    "fig.set_figwidth(50)\n",
    "fig.set_figheight(30)\n",
    "# plt.plot(n, data_asli)"
   ]
  },
  {
   "cell_type": "code",
   "execution_count": 6,
   "metadata": {},
   "outputs": [
    {
     "ename": "IndentationError",
     "evalue": "expected an indented block (<ipython-input-6-cc9d06cb8927>, line 3)",
     "output_type": "error",
     "traceback": [
      "\u001b[1;36m  File \u001b[1;32m\"<ipython-input-6-cc9d06cb8927>\"\u001b[1;36m, line \u001b[1;32m3\u001b[0m\n\u001b[1;33m    \u001b[0m\n\u001b[1;37m    ^\u001b[0m\n\u001b[1;31mIndentationError\u001b[0m\u001b[1;31m:\u001b[0m expected an indented block\n"
     ]
    }
   ],
   "source": [
    "i = 0\n",
    "while i < len(data_kwh):\n",
    "    "
   ]
  },
  {
   "cell_type": "code",
   "execution_count": null,
   "metadata": {},
   "outputs": [],
   "source": [
    "abc = data_kwh.tolist()\n",
    "print(abc)"
   ]
  },
  {
   "cell_type": "code",
   "execution_count": null,
   "metadata": {},
   "outputs": [],
   "source": [
    "print(database_libur)"
   ]
  },
  {
   "cell_type": "code",
   "execution_count": null,
   "metadata": {},
   "outputs": [],
   "source": []
  }
 ],
 "metadata": {
  "colab": {
   "collapsed_sections": [],
   "name": "KWh Meter Reading Estimation Algorithm.ipynb",
   "provenance": [],
   "toc_visible": true
  },
  "kernelspec": {
   "display_name": "Python 3",
   "language": "python",
   "name": "python3"
  },
  "language_info": {
   "codemirror_mode": {
    "name": "ipython",
    "version": 3
   },
   "file_extension": ".py",
   "mimetype": "text/x-python",
   "name": "python",
   "nbconvert_exporter": "python",
   "pygments_lexer": "ipython3",
   "version": "3.9.0"
  }
 },
 "nbformat": 4,
 "nbformat_minor": 1
}
